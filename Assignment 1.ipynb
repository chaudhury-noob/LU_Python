{
 "cells": [
  {
   "cell_type": "markdown",
   "metadata": {},
   "source": [
    "# Q1. Try 5 Different functions of the String in Python. "
   ]
  },
  {
   "cell_type": "code",
   "execution_count": 13,
   "metadata": {
    "scrolled": true
   },
   "outputs": [
    {
     "name": "stdout",
     "output_type": "stream",
     "text": [
      "1. String concatination =  Hello LetsUpgrade !! Python Essential December Batch\n",
      "2. Index of string str1[7] :  e  and str2[15] : l\n",
      "3. String  to uppercase =  HELLO LETSUPGRADE !!\n",
      "4. String splitting =  ['Python', 'Essential', 'December', 'Batch']\n",
      "5. String case swappingb =  hELLO lETSuPGRADE !!\n"
     ]
    }
   ],
   "source": [
    "str1= \"Hello LetsUpgrade !!\"\n",
    "str2= \"Python Essential December Batch\"\n",
    "\n",
    "print(\"1. String concatination = \" , str1+\" \"+str2)\n",
    "\n",
    "print(\"2. Index of string str1[7] : \" , str1[7],\" and str2[15] :\",str2[15])\n",
    "\n",
    "print(\"3. String  to uppercase = \", str1.upper() )\n",
    "\n",
    "print(\"4. String splitting = \" , str2.split() )\n",
    "\n",
    "print(\"5. String case swappingb = \" , str1.swapcase())"
   ]
  },
  {
   "cell_type": "markdown",
   "metadata": {},
   "source": [
    "# Q2. Try 5 Different functions of the List object in Python"
   ]
  },
  {
   "cell_type": "code",
   "execution_count": 15,
   "metadata": {},
   "outputs": [
    {
     "name": "stdout",
     "output_type": "stream",
     "text": [
      "['apple', 'orange', 'banana', 'grapes', 'mango', 'pear']\n",
      "['apple', 'orange', 'banana', 'grapes', 'mango', 'pear', 'Lets Upgrade']\n",
      "['Lets Upgrade', 'apple', 'banana', 'grapes', 'mango', 'orange', 'pear']\n",
      "['pear', 'orange', 'mango', 'grapes', 'banana', 'apple', 'Lets Upgrade']\n",
      "['pear', 'orange', 'mango', 'grapes', 'Hello', 'banana', 'apple', 'Lets Upgrade']\n",
      "['orange', 'mango']\n"
     ]
    }
   ],
   "source": [
    "test=[\"apple\",\"orange\",\"banana\",\"grapes\",\"mango\",\"pear\"]\n",
    "print(test)\n",
    "\n",
    "test.append(\"Lets Upgrade\")\n",
    "print(test)\n",
    "\n",
    "test.sort()\n",
    "print(test)\n",
    "\n",
    "test.insert(4,\"Hello\")\n",
    "print(test)\n",
    "\n",
    "test.reverse()\n",
    "print(test)\n",
    "\n",
    "print(test[1:3])\n"
   ]
  },
  {
   "cell_type": "markdown",
   "metadata": {},
   "source": [
    "# Q3. Experiment with at least 5 default functions of Dictionary"
   ]
  },
  {
   "cell_type": "code",
   "execution_count": 34,
   "metadata": {},
   "outputs": [
    {
     "name": "stdout",
     "output_type": "stream",
     "text": [
      "{1: 'mango', 2: 'orange', 3: 'apple', 4: 'banana'}\n",
      "orange\n",
      "{1: 'mango', 2: 'orange', 3: 'apple', 4: 'banana', 5: 'pear'}\n",
      "dict_keys([1, 2, 3, 4, 5])\n",
      "dict_values(['mango', 'orange', 'apple', 'banana', 'pear'])\n",
      "{1: 'mango', 2: 'orange', 3: 'apple', 4: 'banana'} (5, 'pear')\n"
     ]
    }
   ],
   "source": [
    "s={1:\"mango\", 2:\"orange\", 3:\"apple\", 4:\"banana\"}\n",
    "print(s)\n",
    "\n",
    "type(s)\n",
    "\n",
    "print(s[2])\n",
    "\n",
    "s.update({5:\"pear\"})\n",
    "print(s)\n",
    "\n",
    "print(s.keys())\n",
    "\n",
    "print(s.values())\n",
    "\n",
    "print(s,s.popitem() )"
   ]
  },
  {
   "cell_type": "code",
   "execution_count": null,
   "metadata": {},
   "outputs": [],
   "source": []
  }
 ],
 "metadata": {
  "kernelspec": {
   "display_name": "Python 3",
   "language": "python",
   "name": "python3"
  },
  "language_info": {
   "codemirror_mode": {
    "name": "ipython",
    "version": 3
   },
   "file_extension": ".py",
   "mimetype": "text/x-python",
   "name": "python",
   "nbconvert_exporter": "python",
   "pygments_lexer": "ipython3",
   "version": "3.8.3"
  }
 },
 "nbformat": 4,
 "nbformat_minor": 4
}

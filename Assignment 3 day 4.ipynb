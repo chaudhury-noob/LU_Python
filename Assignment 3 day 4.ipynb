{
 "cells": [
  {
   "cell_type": "markdown",
   "metadata": {},
   "source": [
    "# Q1. Write down a program in Python for Opening a File and Writing \" I Love LetsUpgrade\" And closeit, and read it back again, and then append some data to it and close it."
   ]
  },
  {
   "cell_type": "code",
   "execution_count": 34,
   "metadata": {},
   "outputs": [],
   "source": [
    "test=open(\"test_file.txt\", 'w')\n",
    "test.write(\"I Love Lets Upgrade !!\")\n",
    "test.close()"
   ]
  },
  {
   "cell_type": "code",
   "execution_count": 36,
   "metadata": {},
   "outputs": [
    {
     "name": "stdout",
     "output_type": "stream",
     "text": [
      "I Love Lets Upgrade !!\n"
     ]
    }
   ],
   "source": [
    "test=open(\"test_file.txt\", 'r')\n",
    "x = test.read()\n",
    "print(x)\n",
    "test.close()"
   ]
  },
  {
   "cell_type": "code",
   "execution_count": 38,
   "metadata": {},
   "outputs": [],
   "source": [
    "check=open(\"test_file.txt\", 'a')\n",
    "check.write(\"It is fun learning python in Lets Upgrade.!! \")\n",
    "check.close()"
   ]
  },
  {
   "cell_type": "code",
   "execution_count": 39,
   "metadata": {},
   "outputs": [
    {
     "name": "stdout",
     "output_type": "stream",
     "text": [
      "I Love Lets Upgrade !!It is fun learning python in Lets Upgrade.!! \n"
     ]
    }
   ],
   "source": [
    "a=open(\"test_file.txt\", 'r')\n",
    "x = a.read()\n",
    "print(x)\n",
    "a.close()"
   ]
  },
  {
   "cell_type": "markdown",
   "metadata": {},
   "source": [
    "# Q2. Write a function which can return a Factorial of any numbers as INT, given in the argument."
   ]
  },
  {
   "cell_type": "code",
   "execution_count": 25,
   "metadata": {},
   "outputs": [],
   "source": [
    "def fact(num):\n",
    "    if num==0:\n",
    "        return 1\n",
    "    else:\n",
    "        return num* fact(num-1)\n",
    "        "
   ]
  },
  {
   "cell_type": "code",
   "execution_count": 28,
   "metadata": {},
   "outputs": [
    {
     "name": "stdout",
     "output_type": "stream",
     "text": [
      "Enter a number for factorial : 13\n",
      "6227020800\n"
     ]
    }
   ],
   "source": [
    "num = int(input(\"Enter a number for factorial : \"))\n",
    "result= fact(num)\n",
    "print(result)"
   ]
  }
 ],
 "metadata": {
  "kernelspec": {
   "display_name": "Python 3",
   "language": "python",
   "name": "python3"
  },
  "language_info": {
   "codemirror_mode": {
    "name": "ipython",
    "version": 3
   },
   "file_extension": ".py",
   "mimetype": "text/x-python",
   "name": "python",
   "nbconvert_exporter": "python",
   "pygments_lexer": "ipython3",
   "version": "3.8.3"
  }
 },
 "nbformat": 4,
 "nbformat_minor": 4
}

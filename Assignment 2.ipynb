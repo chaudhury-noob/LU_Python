{
 "cells": [
  {
   "cell_type": "markdown",
   "metadata": {},
   "source": [
    "# Q1. Use IF ELSE and ELIF to write a program in python for your Report Cards."
   ]
  },
  {
   "cell_type": "code",
   "execution_count": null,
   "metadata": {},
   "outputs": [],
   "source": [
    "percent=float(input(\"Enter grade of student :\"))\n",
    "\n",
    "if 100.00>=percent>=90.00 :\n",
    "    print(\"GRADE A \")\n",
    "elif 89.00>=percent>=80.00 :\n",
    "    print(\" GRADE B \")\n",
    "elif 79.00>=percent>=60.00 :\n",
    "    print(\" GRADE C\")\n",
    "elif 59.00>=percent>=40.00:\n",
    "    print(\"GRADE D \")\n",
    "else:\n",
    "    print(\"POOR GRADE\") "
   ]
  },
  {
   "cell_type": "markdown",
   "metadata": {},
   "source": [
    "# Q2. Use For Loop to Print Prime Numbers in between 1 to 1000"
   ]
  },
  {
   "cell_type": "code",
   "execution_count": null,
   "metadata": {},
   "outputs": [],
   "source": [
    "print(\"List of prime numbers between 1 to 1000 : \\n\")\n",
    "\n",
    "for i in range(1,1000):\n",
    "    if i > 1:\n",
    "        for j in range(2, i):\n",
    "            if (i% j) == 0:\n",
    "                break\n",
    "            else:\n",
    "                print(i)\n",
    "            break\n"
   ]
  },
  {
   "cell_type": "markdown",
   "metadata": {},
   "source": [
    "# Q3. Write a program for printing the tables from 1,10 using Nested For Loop"
   ]
  },
  {
   "cell_type": "code",
   "execution_count": null,
   "metadata": {},
   "outputs": [],
   "source": [
    "print(\"Table from 1 to 10 ar as follow :\\n\")\n",
    "for i in range(1,10):\n",
    "    print(\"Table of\",i, \"\\n\" )\n",
    "    for j in range(10):\n",
    "        print(i,\"X\",j,\"=\", i*j,\"\\n\")"
   ]
  },
  {
   "cell_type": "markdown",
   "metadata": {},
   "source": [
    "# Q4. Write a program to print \"X\" prime numbers using while Loop starting from 0, and take the input of X from the user."
   ]
  },
  {
   "cell_type": "code",
   "execution_count": null,
   "metadata": {},
   "outputs": [],
   "source": [
    "num = int(input( \"Enter the number of prime number you want starting from 0 :\"))\n",
    "\n",
    "count = 0\n",
    "x = 2\n",
    "i=2\n",
    "while (count<num && i<=x) :\n",
    "    if x%i==0:\n",
    "        break\n",
    "    else:\n",
    "        print(x)\n",
    "        count += 1\n",
    "        x += 1\n",
    "    i=i+1"
   ]
  }
 ],
 "metadata": {
  "kernelspec": {
   "display_name": "Python 3",
   "language": "python",
   "name": "python3"
  },
  "language_info": {
   "codemirror_mode": {
    "name": "ipython",
    "version": 3
   },
   "file_extension": ".py",
   "mimetype": "text/x-python",
   "name": "python",
   "nbconvert_exporter": "python",
   "pygments_lexer": "ipython3",
   "version": "3.8.3"
  }
 },
 "nbformat": 4,
 "nbformat_minor": 4
}
